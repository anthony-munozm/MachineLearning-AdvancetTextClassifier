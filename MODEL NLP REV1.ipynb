{
 "cells": [
  {
   "cell_type": "code",
   "execution_count": 147,
   "metadata": {},
   "outputs": [],
   "source": [
    "import pandas as pd\n",
    "import spacy"
   ]
  },
  {
   "cell_type": "code",
   "execution_count": 148,
   "metadata": {},
   "outputs": [],
   "source": [
    "dataset = pd.read_csv(\"sample.csv\")"
   ]
  },
  {
   "cell_type": "code",
   "execution_count": 172,
   "metadata": {},
   "outputs": [
    {
     "ename": "AttributeError",
     "evalue": "'LazyConfigValue' object has no attribute 'lower'",
     "output_type": "error",
     "traceback": [
      "\u001b[0;31m---------------------------------------------------------------------------\u001b[0m",
      "\u001b[0;31mAttributeError\u001b[0m                            Traceback (most recent call last)",
      "\u001b[0;32m/Library/Frameworks/Python.framework/Versions/3.6/lib/python3.6/site-packages/IPython/core/formatters.py\u001b[0m in \u001b[0;36m__call__\u001b[0;34m(self, obj)\u001b[0m\n\u001b[1;32m    343\u001b[0m             \u001b[0mmethod\u001b[0m \u001b[0;34m=\u001b[0m \u001b[0mget_real_method\u001b[0m\u001b[0;34m(\u001b[0m\u001b[0mobj\u001b[0m\u001b[0;34m,\u001b[0m \u001b[0mself\u001b[0m\u001b[0;34m.\u001b[0m\u001b[0mprint_method\u001b[0m\u001b[0;34m)\u001b[0m\u001b[0;34m\u001b[0m\u001b[0m\n\u001b[1;32m    344\u001b[0m             \u001b[0;32mif\u001b[0m \u001b[0mmethod\u001b[0m \u001b[0;32mis\u001b[0m \u001b[0;32mnot\u001b[0m \u001b[0;32mNone\u001b[0m\u001b[0;34m:\u001b[0m\u001b[0;34m\u001b[0m\u001b[0m\n\u001b[0;32m--> 345\u001b[0;31m                 \u001b[0;32mreturn\u001b[0m \u001b[0mmethod\u001b[0m\u001b[0;34m(\u001b[0m\u001b[0;34m)\u001b[0m\u001b[0;34m\u001b[0m\u001b[0m\n\u001b[0m\u001b[1;32m    346\u001b[0m             \u001b[0;32mreturn\u001b[0m \u001b[0;32mNone\u001b[0m\u001b[0;34m\u001b[0m\u001b[0m\n\u001b[1;32m    347\u001b[0m         \u001b[0;32melse\u001b[0m\u001b[0;34m:\u001b[0m\u001b[0;34m\u001b[0m\u001b[0m\n",
      "\u001b[0;32m/Library/Frameworks/Python.framework/Versions/3.6/lib/python3.6/site-packages/pandas/core/frame.py\u001b[0m in \u001b[0;36m_repr_html_\u001b[0;34m(self)\u001b[0m\n\u001b[1;32m    647\u001b[0m         \u001b[0;31m# display HTML, so this check can be removed when support for\u001b[0m\u001b[0;34m\u001b[0m\u001b[0;34m\u001b[0m\u001b[0m\n\u001b[1;32m    648\u001b[0m         \u001b[0;31m# IPython 2.x is no longer needed.\u001b[0m\u001b[0;34m\u001b[0m\u001b[0;34m\u001b[0m\u001b[0m\n\u001b[0;32m--> 649\u001b[0;31m         \u001b[0;32mif\u001b[0m \u001b[0mconsole\u001b[0m\u001b[0;34m.\u001b[0m\u001b[0min_qtconsole\u001b[0m\u001b[0;34m(\u001b[0m\u001b[0;34m)\u001b[0m\u001b[0;34m:\u001b[0m\u001b[0;34m\u001b[0m\u001b[0m\n\u001b[0m\u001b[1;32m    650\u001b[0m             \u001b[0;31m# 'HTML output is disabled in QtConsole'\u001b[0m\u001b[0;34m\u001b[0m\u001b[0;34m\u001b[0m\u001b[0m\n\u001b[1;32m    651\u001b[0m             \u001b[0;32mreturn\u001b[0m \u001b[0;32mNone\u001b[0m\u001b[0;34m\u001b[0m\u001b[0m\n",
      "\u001b[0;32m/Library/Frameworks/Python.framework/Versions/3.6/lib/python3.6/site-packages/pandas/io/formats/console.py\u001b[0m in \u001b[0;36min_qtconsole\u001b[0;34m()\u001b[0m\n\u001b[1;32m    121\u001b[0m             \u001b[0mip\u001b[0m\u001b[0;34m.\u001b[0m\u001b[0mconfig\u001b[0m\u001b[0;34m.\u001b[0m\u001b[0mget\u001b[0m\u001b[0;34m(\u001b[0m\u001b[0;34m'KernelApp'\u001b[0m\u001b[0;34m,\u001b[0m \u001b[0;34m{\u001b[0m\u001b[0;34m}\u001b[0m\u001b[0;34m)\u001b[0m\u001b[0;34m.\u001b[0m\u001b[0mget\u001b[0m\u001b[0;34m(\u001b[0m\u001b[0;34m'parent_appname'\u001b[0m\u001b[0;34m,\u001b[0m \u001b[0;34m\"\"\u001b[0m\u001b[0;34m)\u001b[0m \u001b[0;32mor\u001b[0m\u001b[0;34m\u001b[0m\u001b[0m\n\u001b[1;32m    122\u001b[0m             ip.config.get('IPKernelApp', {}).get('parent_appname', \"\"))\n\u001b[0;32m--> 123\u001b[0;31m         \u001b[0;32mif\u001b[0m \u001b[0;34m'qtconsole'\u001b[0m \u001b[0;32min\u001b[0m \u001b[0mfront_end\u001b[0m\u001b[0;34m.\u001b[0m\u001b[0mlower\u001b[0m\u001b[0;34m(\u001b[0m\u001b[0;34m)\u001b[0m\u001b[0;34m:\u001b[0m\u001b[0;34m\u001b[0m\u001b[0m\n\u001b[0m\u001b[1;32m    124\u001b[0m             \u001b[0;32mreturn\u001b[0m \u001b[0;32mTrue\u001b[0m\u001b[0;34m\u001b[0m\u001b[0m\n\u001b[1;32m    125\u001b[0m     \u001b[0;32mexcept\u001b[0m \u001b[0mNameError\u001b[0m\u001b[0;34m:\u001b[0m\u001b[0;34m\u001b[0m\u001b[0m\n",
      "\u001b[0;31mAttributeError\u001b[0m: 'LazyConfigValue' object has no attribute 'lower'"
     ]
    },
    {
     "data": {
      "text/plain": [
       "   Dragon-Ball-Super-S04E18-DUBBED-720p-HDTV-x264-CRiMSON[rarbg]  1\n",
       "0   Dragon-Ball-Super-S04E28-DUBBED-720p-HDTV-x264...             1\n",
       "1   Dragon-Ball-Super-S04E13-DUBBED-720p-HDTV-x264...             1\n",
       "2   Dragon-Ball-Super-92-Eng-Sub-720p-2CH-AAC-x265...             2\n",
       "3   Dragon-Ball-Super-S04E19-DUBBED-1080p-HDTV-x26...             1\n",
       "4   Dragon-Ball-Super-E108-1080p-WEB-DL-H264-DUAL-...             2\n",
       "5   Dragon-Ball-Super-S04E16-DUBBED-720p-HDTV-x264...             1\n",
       "6   Dragon-Ball-Super-S05E13-DUBBED-HDTV-x264-CRiM...             1\n",
       "7   Dragon-Ball-Super-S04E26-DUBBED-720p-HDTV-x264...             1\n",
       "8   [Funimation-DUB]-Dragon-Ball-Super--83-[1080p]...             2\n",
       "9   [ACESSE-MEGAFILMESTORRENTS-ORG]-Dragon-Ball-Su...             2\n",
       "10  WWW-BLUDV-TV -Dragon-Ball-Super-2018--Episodio...             2\n",
       "11  Dragon-Ball-Super-Complete-Season-2-1080P-BluR...             1\n",
       "12  Dragon-Ball-Super-Complete-Season-3-1080P-BluR...             1\n",
       "13  [HorribleSubs] Boruto - Naruto Next Generation...             2\n",
       "14              Boruto - Naruto Next Generations - 08             2\n",
       "15  [HorribleSubs] Boruto - Naruto Next Generation...             2\n",
       "16   Boruto - 072 [JesuSub] vostfr 1080p x265 AAC mp4             2\n",
       "17   Boruto - 074 [JesuSub] vostfr 1080p x265 AAC mp4             2\n",
       "18  Catfish - 121 [sometinghere] vostfr 1080p x265...             2\n",
       "19  Boruto Naruto Next Generations E10 DUBBED HDTV...             2\n",
       "20                 Boruto - 009 vostfr X265 1080p mp4             2\n",
       "21                Boruto Naruto Next Generations - 25             2\n",
       "22  Боруто: Новое поколение Наруто / Boruto: Narut...             2\n",
       "23  Боруто: Новое поколение Наруто / Boruto: Narut...             2\n",
       "24  Боруто: Новое поколение Наруто / Boruto: Narut...             2\n",
       "25  Боруто: Новое поколение Наруто / Boruto: Narut...             1\n",
       "26  [HorribleSubs] Boruto - Naruto Next Generation...             2\n",
       "27   Boruto - 058 [JesuSub] vostfr 1080p x265 AAC mp4             2\n",
       "28  Boruto - Naruto Next Generations S01E13 [720p]...             1\n",
       "29  Боруто: Новое поколение Наруто / Boruto: Narut...             2\n",
       "..                                                ...            ..\n",
       "32  Девственница Джейн / Jane the virgin [S02] (20...             1\n",
       "33  Девственница Джейн / Jane the virgin [S04] (20...             1\n",
       "34  Jane The Virgin - Temporada 4 [HDTV 720p][Cap....             3\n",
       "35  Jane-The-Virgin--Temporada-3-[HDTV][Cap-318][E...             3\n",
       "36  Jane The Virgin 1ª Temporada WEB-DL 720p - WWW...             3\n",
       "37                       Jane-The-Virgin--Temporada-1             3\n",
       "38  Jane-The-Virgin--Temporada-3-[HDTV][Cap-318][E...             3\n",
       "39  [ WWW.TORRENTING.ME ] - Jane.the.Virgin.S03E15...             1\n",
       "40  Jane The Virgin S02E01 720p HDTV X264-DIMENSIO...             1\n",
       "41  Jane the Virgin S02E17 720p WEB-DL DD5 1 H264-...             1\n",
       "42  Нарко: Мексика / Narcos: Mexico [S01] (2018) W...             1\n",
       "43                       Narcos-Mexico-S01-[1080p]-LF             1\n",
       "44         Narcos-Mexico-S01-FRENCH-WEBRip-x264-AMB3R             1\n",
       "45   Narcos-Mexico-S01E08-1080p-WEB-DL-x264--ExYuSubs             1\n",
       "46     Narcos-Mexico-S01E08-1080p-WEBRip-X264-DEFLATE             1\n",
       "47  Narcos Mexico - Temporada 2 [HDTV][Cap.102][ww...             3\n",
       "48  Narcos-Mexico--Temporada-1-[HDTV-720p][Cap-104...             3\n",
       "49  [ACESSE COMANDOTORRENTS.COM] Narcos Mexico 1 ª...             3\n",
       "50  {WWW.BLUDV.TV} Narcos Mexico - 1ª Temporada Co...             3\n",
       "51  Narcos Mexico - Temporada 2 [HDTV][Cap.101_103...             3\n",
       "52  Narcos Mexico - Temporada 1 E06-E10 HDTV Caste...             3\n",
       "53  The Flash 2 Temporada 1080p Dual Áudio - WWW.S...             3\n",
       "54        The Flash 3ª Temporada Completa (2017) DVDR             3\n",
       "55  The-Flash--Temporada-5-[HDTV][Cap-504][Castell...             3\n",
       "56      Флэш / The Flash [S03] (2016) WEBRip | Кравец             1\n",
       "57  OST - Флэш: Сезон 1 / The Flash: Season 1 (201...             1\n",
       "58  Флэш / The Flash [S01] (2014-2015) WEB-DL 1080...             1\n",
       "59  Флэш / The Flash [S01] (2014-2015) WEB-DLRip |...             1\n",
       "60  The Flash 2014 S02E17 Flash Back 720p WEB-DL 2...             1\n",
       "61  The Flash - Season 3 - 720p HDTV - x265 HEVC -...             1\n",
       "\n",
       "[62 rows x 2 columns]"
      ]
     },
     "execution_count": 172,
     "metadata": {},
     "output_type": "execute_result"
    }
   ],
   "source": [
    "dataset"
   ]
  },
  {
   "cell_type": "code",
   "execution_count": 149,
   "metadata": {},
   "outputs": [],
   "source": [
    "\n",
    "def classificator(string, dataset):\n",
    "\n",
    "    nlp = spacy.load('en_core_web_sm')\n",
    "    doc1 = nlp(string)\n",
    "    \n",
    "    similarity_ = []\n",
    "    values = []\n",
    "    index_  = []\n",
    "    \n",
    "    i = 1\n",
    "    for index, row in dataset.iterrows():\n",
    "        row_nlp = nlp(row.values[0])\n",
    "        similarity = row_nlp.similarity(doc1)\n",
    "        #print (\"{} Expected:{} - Predicted:{}\".format(row.values[0][:16], row.values[1], similarity))\n",
    "        similarity_.append(similarity)\n",
    "        values.append(row.values[1])\n",
    "        index_.append(i)\n",
    "        i = i + 1\n",
    "        \n",
    "    return index_, values, similarity_"
   ]
  },
  {
   "cell_type": "code",
   "execution_count": 180,
   "metadata": {},
   "outputs": [],
   "source": [
    "index, expected, predicted = classificator(u\"720p-HDTV\", dataset)"
   ]
  },
  {
   "cell_type": "code",
   "execution_count": 181,
   "metadata": {},
   "outputs": [],
   "source": [
    "predicted_df = pd.DataFrame(data=predicted, columns=[\"predicted\"])\n",
    "expected_df = pd.DataFrame(data=expected, columns=[\"expected\"])"
   ]
  },
  {
   "cell_type": "code",
   "execution_count": 182,
   "metadata": {},
   "outputs": [],
   "source": [
    "total = pd.concat([expected_df,predicted_df],axis=1)"
   ]
  },
  {
   "cell_type": "code",
   "execution_count": 183,
   "metadata": {},
   "outputs": [],
   "source": [
    "total_1 = total[total[\"expected\"] == 1]\n",
    "total_2 = total[total[\"expected\"] == 2]\n",
    "total_3 = total[total[\"expected\"] == 3]"
   ]
  },
  {
   "cell_type": "code",
   "execution_count": 184,
   "metadata": {},
   "outputs": [
    {
     "data": {
      "text/plain": [
       "expected     1.00000\n",
       "predicted    0.52958\n",
       "dtype: float64"
      ]
     },
     "execution_count": 184,
     "metadata": {},
     "output_type": "execute_result"
    }
   ],
   "source": [
    "total_1.mean()"
   ]
  },
  {
   "cell_type": "code",
   "execution_count": 185,
   "metadata": {},
   "outputs": [
    {
     "data": {
      "text/plain": [
       "expected     2.000000\n",
       "predicted    0.483776\n",
       "dtype: float64"
      ]
     },
     "execution_count": 185,
     "metadata": {},
     "output_type": "execute_result"
    }
   ],
   "source": [
    "total_2.mean()"
   ]
  },
  {
   "cell_type": "code",
   "execution_count": 186,
   "metadata": {},
   "outputs": [
    {
     "data": {
      "text/plain": [
       "expected     3.000000\n",
       "predicted    0.572299\n",
       "dtype: float64"
      ]
     },
     "execution_count": 186,
     "metadata": {},
     "output_type": "execute_result"
    }
   ],
   "source": [
    "total_3.mean()"
   ]
  },
  {
   "cell_type": "code",
   "execution_count": 187,
   "metadata": {},
   "outputs": [
    {
     "data": {
      "image/png": "[encoded data removed]",
      "text/plain": [
       "<Figure size 432x288 with 1 Axes>"
      ]
     },
     "metadata": {
      "needs_background": "light"
     },
     "output_type": "display_data"
    }
   ],
   "source": [
    "# Generate data on commute times.\n",
    "size, scale = 1000, 10\n",
    "\n",
    "commutes = total_1[\"predicted\"]\n",
    "\n",
    "commutes.plot.hist(grid=True, bins=20, rwidth=0.9,\n",
    "                   color='#607c8e')\n",
    "plt.title('Commute Times for 1,000 Commuters')\n",
    "plt.xlabel('Counts')\n",
    "plt.ylabel('Commute Time')\n",
    "plt.grid(axis='y', alpha=0.75)"
   ]
  },
  {
   "cell_type": "code",
   "execution_count": 188,
   "metadata": {},
   "outputs": [
    {
     "data": {
      "image/png": "[encoded data removed]",
      "text/plain": [
       "<Figure size 432x288 with 1 Axes>"
      ]
     },
     "metadata": {
      "needs_background": "light"
     },
     "output_type": "display_data"
    }
   ],
   "source": [
    "# Generate data on commute times.\n",
    "size, scale = 1000, 10\n",
    "\n",
    "commutes = total_2[\"predicted\"]\n",
    "\n",
    "commutes.plot.hist(grid=True, bins=20, rwidth=0.9,\n",
    "                   color='#607c8e')\n",
    "plt.title('Commute Times for 1,000 Commuters')\n",
    "plt.xlabel('Counts')\n",
    "plt.ylabel('Commute Time')\n",
    "plt.grid(axis='y', alpha=0.75)"
   ]
  },
  {
   "cell_type": "code",
   "execution_count": 189,
   "metadata": {},
   "outputs": [
    {
     "data": {
      "image/png": "[encoded data removed]",
      "text/plain": [
       "<Figure size 432x288 with 1 Axes>"
      ]
     },
     "metadata": {
      "needs_background": "light"
     },
     "output_type": "display_data"
    }
   ],
   "source": [
    "# Generate data on commute times.\n",
    "size, scale = 1000, 10\n",
    "\n",
    "commutes = total_3[\"predicted\"]\n",
    "\n",
    "commutes.plot.hist(grid=True, bins=20, rwidth=0.9,\n",
    "                   color='#607c8e')\n",
    "plt.title('Commute Times for 1,000 Commuters')\n",
    "plt.xlabel('Counts')\n",
    "plt.ylabel('Commute Time')\n",
    "plt.grid(axis='y', alpha=0.75)"
   ]
  },
  {
   "cell_type": "code",
   "execution_count": 190,
   "metadata": {},
   "outputs": [
    {
     "data": {
      "image/png": "[encoded data removed]",
      "text/plain": [
       "<Figure size 432x288 with 1 Axes>"
      ]
     },
     "metadata": {
      "needs_background": "light"
     },
     "output_type": "display_data"
    }
   ],
   "source": [
    "# Generate data on commute times.\n",
    "size, scale = 1000, 10\n",
    "\n",
    "commutes = expected_df\n",
    "\n",
    "commutes.plot.hist(grid=True, bins=20, rwidth=0.9,\n",
    "                   color='#607c8e')\n",
    "plt.title('Commute Times for 1,000 Commuters')\n",
    "plt.xlabel('Counts')\n",
    "plt.ylabel('Commute Time')\n",
    "plt.grid(axis='y', alpha=0.75)"
   ]
  },
  {
   "cell_type": "code",
   "execution_count": null,
   "metadata": {},
   "outputs": [],
   "source": []
  },
  {
   "cell_type": "code",
   "execution_count": null,
   "metadata": {},
   "outputs": [],
   "source": []
  },
  {
   "cell_type": "code",
   "execution_count": null,
   "metadata": {},
   "outputs": [],
   "source": []
  }
 ],
 "metadata": {
  "kernelspec": {
   "display_name": "Python 3",
   "language": "python",
   "name": "python3"
  },
  "language_info": {
   "codemirror_mode": {
    "name": "ipython",
    "version": 3
   },
   "file_extension": ".py",
   "mimetype": "text/x-python",
   "name": "python",
   "nbconvert_exporter": "python",
   "pygments_lexer": "ipython3",
   "version": "3.6.6"
  }
 },
 "nbformat": 4,
 "nbformat_minor": 2
}
