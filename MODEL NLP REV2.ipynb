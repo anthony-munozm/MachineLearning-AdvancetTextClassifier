{
 "cells": [
  {
   "cell_type": "code",
   "execution_count": 63,
   "metadata": {},
   "outputs": [],
   "source": [
    "import pandas as pd\n",
    "import spacy\n",
    "import matplotlib.pyplot as plt\n",
    "import numpy as np\n"
   ]
  },
  {
   "cell_type": "code",
   "execution_count": 64,
   "metadata": {},
   "outputs": [],
   "source": [
    "dataset = pd.read_csv(\"sample.csv\")"
   ]
  },
  {
   "cell_type": "code",
   "execution_count": 85,
   "metadata": {},
   "outputs": [],
   "source": [
    "def classificator(string, dataset):\n",
    "\n",
    "    nlp = spacy.load('en_core_web_sm')\n",
    "    doc1 = nlp(string)\n",
    "    \n",
    "    similarity_ = []\n",
    "    values = []\n",
    "    index_  = []\n",
    "    \n",
    "    i = 1\n",
    "    for index, row in dataset.iterrows():\n",
    "        row_nlp = nlp(row.values[0])\n",
    "        similarity = row_nlp.similarity(doc1)\n",
    "        #print (\"{} Expected:{} - Predicted:{}\".format(row.values[0][:16], row.values[1], similarity))\n",
    "        similarity_.append(similarity)\n",
    "        values.append(row.values[1])\n",
    "        index_.append(i)\n",
    "        i = i + 1\n",
    "        \n",
    "    return index_, values, similarity_\n",
    "\n",
    "def stats_generator(index, expected, predicted):\n",
    "    \n",
    "    predicted_df = pd.DataFrame(data=predicted, columns=[\"predicted\"])\n",
    "    expected_df = pd.DataFrame(data=expected, columns=[\"expected\"])\n",
    "    total = pd.concat([expected_df,predicted_df],axis=1)\n",
    "    total_1 = total[total[\"expected\"] == 1]\n",
    "    total_2 = total[total[\"expected\"] == 2]\n",
    "    total_3 = total[total[\"expected\"] == 3]\n",
    "    \n",
    "    return total_1.mean(), total_2.mean(), total_3.mean()\n",
    "\n",
    "def desicion_taker(mean1, mean2, mean3):\n",
    "    array = [mean1.get(\"predicted\") , mean2.get(\"predicted\") , mean3.get(\"predicted\")]\n",
    "    desicion = np.max(array)\n",
    "    index = array.index(desicion)\n",
    "    print(\"Category of element is {}\".format(index+1))\n",
    "    return index+1"
   ]
  },
  {
   "cell_type": "code",
   "execution_count": 86,
   "metadata": {},
   "outputs": [],
   "source": [
    "index, expected, predicted = classificator(u\"720p-HDTV\", dataset)"
   ]
  },
  {
   "cell_type": "code",
   "execution_count": 87,
   "metadata": {},
   "outputs": [],
   "source": [
    "mean1, mean2, mean3 = stats_generator(index, expected, predicted)"
   ]
  },
  {
   "cell_type": "code",
   "execution_count": 88,
   "metadata": {},
   "outputs": [
    {
     "name": "stdout",
     "output_type": "stream",
     "text": [
      "Category of element is 3\n"
     ]
    },
    {
     "data": {
      "text/plain": [
       "3"
      ]
     },
     "execution_count": 88,
     "metadata": {},
     "output_type": "execute_result"
    }
   ],
   "source": [
    "final_result = desicion_taker(mean1, mean2, mean3)\n",
    "final_result"
   ]
  },
  {
   "cell_type": "code",
   "execution_count": null,
   "metadata": {},
   "outputs": [],
   "source": []
  }
 ],
 "metadata": {
  "kernelspec": {
   "display_name": "Python 3",
   "language": "python",
   "name": "python3"
  },
  "language_info": {
   "codemirror_mode": {
    "name": "ipython",
    "version": 3
   },
   "file_extension": ".py",
   "mimetype": "text/x-python",
   "name": "python",
   "nbconvert_exporter": "python",
   "pygments_lexer": "ipython3",
   "version": "3.6.6"
  }
 },
 "nbformat": 4,
 "nbformat_minor": 2
}
